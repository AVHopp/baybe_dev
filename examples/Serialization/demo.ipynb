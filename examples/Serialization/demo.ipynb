{
 "cells": [
  {
   "cell_type": "code",
   "execution_count": null,
   "id": "7d683f9b-361e-4d9f-bd2c-4b33b9a1eb71",
   "metadata": {
    "pycharm": {
     "is_executing": true
    },
    "tags": []
   },
   "outputs": [],
   "source": [
    "from baybe.core import BayBE\n",
    "from baybe.parameters import Categorical, NumericDiscrete, GenericSubstance\n",
    "from baybe.searchspace import SearchSpace\n",
    "from baybe.strategies.bayesian import SequentialGreedyRecommender\n",
    "from baybe.strategies.sampling import FPSRecommender\n",
    "from baybe.strategies.strategy import Strategy\n",
    "from baybe.targets import NumericalTarget, Objective\n",
    "\n",
    "from pathlib import Path\n",
    "import numpy as np\n",
    "import json\n",
    "from IPython.display import JSON"
   ]
  },
  {
   "cell_type": "markdown",
   "id": "23b65756-3c4f-48ad-a971-88994415662a",
   "metadata": {},
   "source": [
    "## Define the DOE problem"
   ]
  },
  {
   "cell_type": "code",
   "execution_count": null,
   "id": "52589b0a-adf4-481a-9767-7269af52b420",
   "metadata": {
    "pycharm": {
     "is_executing": true
    }
   },
   "outputs": [],
   "source": [
    "# Parameters\n",
    "parameters = [\n",
    "    Categorical(\n",
    "        name=\"Granularity\",\n",
    "        values=[\"coarse\", \"medium\", \"fine\"],\n",
    "        encoding=\"OHE\",\n",
    "    ),\n",
    "    NumericDiscrete(\n",
    "        name=\"Pressure[bar]\",\n",
    "        values=[1, 5, 10],\n",
    "        tolerance=0.2,\n",
    "    ),\n",
    "    NumericDiscrete(\n",
    "        name=\"Temperature[degree_C]\",\n",
    "        values=np.linspace(100, 200, 5).tolist(),  # temperature interval in steps of 25\n",
    "    ),\n",
    "    GenericSubstance(\n",
    "        name=\"Solvent\",\n",
    "        data={\n",
    "            'Solvent A':'COC', \n",
    "            'Solvent B':'CCCCC'},\n",
    "        encoding=\"MORDRED\",  # use cheminformatics encoding to inform the algorithm about chemistry\n",
    "    )\n",
    "]\n",
    "\n",
    "# Targets\n",
    "targets = [\n",
    "    NumericalTarget(name=\"Yield\", mode=\"MAX\")\n",
    "]"
   ]
  },
  {
   "cell_type": "markdown",
   "id": "2d466f56-03e7-4fc9-af25-670f39995a06",
   "metadata": {},
   "source": [
    "## Create the corresponding BayBE object"
   ]
  },
  {
   "cell_type": "code",
   "execution_count": null,
   "id": "ba1b879f-dad9-4d8b-a889-f78cb0b97960",
   "metadata": {
    "pycharm": {
     "is_executing": true
    },
    "tags": []
   },
   "outputs": [],
   "source": [
    "baybe = BayBE(\n",
    "    searchspace = SearchSpace.create(parameters  = parameters,\n",
    "                                     constraints = None),\n",
    "    objective   = Objective(mode    = 'SINGLE', \n",
    "                            targets = targets),\n",
    "    strategy    = Strategy(recommender         = SequentialGreedyRecommender(),\n",
    "                           initial_recommender = FPSRecommender(),)\n",
    ")"
   ]
  },
  {
   "cell_type": "markdown",
   "id": "fec93703-3852-42df-a7b0-3f427a07d069",
   "metadata": {
    "tags": []
   },
   "source": [
    "## Get 5 recommendations for the next experiments"
   ]
  },
  {
   "cell_type": "code",
   "execution_count": null,
   "id": "be1ee24a-dfce-4157-b766-c9824ad92a41",
   "metadata": {
    "pycharm": {
     "is_executing": true
    },
    "tags": []
   },
   "outputs": [],
   "source": [
    "recommendation_1 = baybe.recommend(5)\n",
    "recommendation_1"
   ]
  },
  {
   "cell_type": "markdown",
   "id": "87ee70a7-ebc4-4257-ab9a-5a7d8ea2c3f4",
   "metadata": {},
   "source": [
    "## Simulate some random \"Yield\" measurement data"
   ]
  },
  {
   "cell_type": "code",
   "execution_count": null,
   "id": "e16baca7-2a39-42ae-99da-ef69af028d57",
   "metadata": {},
   "outputs": [],
   "source": [
    "measurements_1 =  recommendation_1.copy()\n",
    "measurements_1.Yield = np.random.randint(0, 100, 5)\n",
    "measurements_1"
   ]
  },
  {
   "cell_type": "markdown",
   "id": "96dc9eae-28ba-48fd-b078-26fc2d53b948",
   "metadata": {},
   "source": [
    "## Read in the simulated results and get the next 7 recommendations"
   ]
  },
  {
   "cell_type": "code",
   "execution_count": null,
   "id": "383d1c2b-8ec0-414e-94ac-c49d37a2795e",
   "metadata": {
    "tags": []
   },
   "outputs": [],
   "source": [
    "baybe.add_results(measurements_1)\n",
    "recommendation_2 = baybe.recommend(7)\n",
    "recommendation_2"
   ]
  },
  {
   "cell_type": "markdown",
   "id": "f818ddbe-4e42-4c5c-8b44-fa02de534a39",
   "metadata": {},
   "source": [
    "## Store the current state of the project as JSON"
   ]
  },
  {
   "cell_type": "code",
   "execution_count": null,
   "id": "b51db6f3-d4ac-44df-bced-140a4f3e7962",
   "metadata": {
    "tags": []
   },
   "outputs": [],
   "source": [
    "json_file = baybe.to_json()\n",
    "JSON(json_file, expanded=False)"
   ]
  },
  {
   "cell_type": "markdown",
   "id": "340f80bd-9d39-4c94-8808-e6e9af85e1cc",
   "metadata": {
    "tags": []
   },
   "source": [
    "## Reload the project state from the JSON and verify that the next 7 recommendations are the same as above"
   ]
  },
  {
   "cell_type": "code",
   "execution_count": null,
   "id": "7a31bc2d-9706-4766-82bc-161d992ec8fa",
   "metadata": {},
   "outputs": [],
   "source": [
    "baybe_new = BayBE.from_json(json_file)\n",
    "recommendation_2_reconstructed = baybe_new.recommend(7)\n",
    "print(recommendation_2_reconstructed, end=\"\\n\\n\")\n",
    "print(\"Identical?\", recommendation_2_reconstructed.equals(recommendation_2))"
   ]
  },
  {
   "cell_type": "markdown",
   "id": "99272048-bab3-409d-8f88-4fccbaa8eb22",
   "metadata": {
    "tags": []
   },
   "source": [
    "## Validate that the BayBE objects are identical"
   ]
  },
  {
   "cell_type": "code",
   "execution_count": null,
   "id": "2dbd5600-ba06-4bae-a9fb-b340f4455d05",
   "metadata": {
    "tags": []
   },
   "outputs": [],
   "source": [
    "print(\"Identical?\", baybe == baybe_new)"
   ]
  }
 ],
 "metadata": {
  "kernelspec": {
   "display_name": "baybe38",
   "language": "python",
   "name": "baybe38"
  },
  "language_info": {
   "codemirror_mode": {
    "name": "ipython",
    "version": 3
   },
   "file_extension": ".py",
   "mimetype": "text/x-python",
   "name": "python",
   "nbconvert_exporter": "python",
   "pygments_lexer": "ipython3",
   "version": "3.8.6"
  }
 },
 "nbformat": 4,
 "nbformat_minor": 5
}
